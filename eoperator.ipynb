{
  "nbformat": 4,
  "nbformat_minor": 0,
  "metadata": {
    "colab": {
      "provenance": [],
      "authorship_tag": "ABX9TyMsVRi1r7O0k3CUkuX3vpuB",
      "include_colab_link": true
    },
    "kernelspec": {
      "name": "python3",
      "display_name": "Python 3"
    },
    "language_info": {
      "name": "python"
    }
  },
  "cells": [
    {
      "cell_type": "markdown",
      "metadata": {
        "id": "view-in-github",
        "colab_type": "text"
      },
      "source": [
        "<a href=\"https://colab.research.google.com/github/p-archana1/osinttool/blob/main/eoperator.ipynb\" target=\"_parent\"><img src=\"https://colab.research.google.com/assets/colab-badge.svg\" alt=\"Open In Colab\"/></a>"
      ]
    },
    {
      "cell_type": "markdown",
      "source": [
        "## **Operators in Python**\n",
        "##Arithmetic Operators\n",
        "\n",
        "##Relational Operators\n",
        "\n",
        "##Logical Operators\n",
        "\n",
        "##Bitwise Operators\n",
        "\n",
        "##Assignment Operators\n",
        "\n",
        "##Membership Operators"
      ],
      "metadata": {
        "id": "YpfE8i8q4Trl"
      }
    },
    {
      "cell_type": "markdown",
      "source": [
        "##**Arithmetic Operators**"
      ],
      "metadata": {
        "id": "NaHoRTGP9cnU"
      }
    },
    {
      "cell_type": "code",
      "source": [
        "print(4+3)"
      ],
      "metadata": {
        "colab": {
          "base_uri": "https://localhost:8080/"
        },
        "id": "Q-W6zg_U432V",
        "outputId": "615de7ea-6c48-43d5-8347-4f88fa417b9b"
      },
      "execution_count": 1,
      "outputs": [
        {
          "output_type": "stream",
          "name": "stdout",
          "text": [
            "7\n"
          ]
        }
      ]
    },
    {
      "cell_type": "code",
      "source": [
        "print(4-3)"
      ],
      "metadata": {
        "colab": {
          "base_uri": "https://localhost:8080/"
        },
        "id": "eDmFeH8348y3",
        "outputId": "b89fb1b4-3713-4e27-b55a-0c8a8b39c1f8"
      },
      "execution_count": 2,
      "outputs": [
        {
          "output_type": "stream",
          "name": "stdout",
          "text": [
            "1\n"
          ]
        }
      ]
    },
    {
      "cell_type": "code",
      "source": [
        "print(4*3)"
      ],
      "metadata": {
        "colab": {
          "base_uri": "https://localhost:8080/"
        },
        "id": "w4eQ91R15F_Q",
        "outputId": "742b275b-dd38-4b63-cd99-03c60ca1ba7b"
      },
      "execution_count": 3,
      "outputs": [
        {
          "output_type": "stream",
          "name": "stdout",
          "text": [
            "12\n"
          ]
        }
      ]
    },
    {
      "cell_type": "code",
      "source": [
        "print(4/2)"
      ],
      "metadata": {
        "colab": {
          "base_uri": "https://localhost:8080/"
        },
        "id": "CNVeHlb35Ih7",
        "outputId": "d6c772f2-cf59-44d9-cfbd-db9dfab1d8e0"
      },
      "execution_count": 4,
      "outputs": [
        {
          "output_type": "stream",
          "name": "stdout",
          "text": [
            "2.0\n"
          ]
        }
      ]
    },
    {
      "cell_type": "code",
      "source": [
        "print(4//2)"
      ],
      "metadata": {
        "colab": {
          "base_uri": "https://localhost:8080/"
        },
        "id": "YY3WYQse5OK6",
        "outputId": "5273d37a-b0c3-4877-96b7-120e1c77c5d1"
      },
      "execution_count": 5,
      "outputs": [
        {
          "output_type": "stream",
          "name": "stdout",
          "text": [
            "2\n"
          ]
        }
      ]
    },
    {
      "cell_type": "code",
      "source": [
        "print(4%2)"
      ],
      "metadata": {
        "colab": {
          "base_uri": "https://localhost:8080/"
        },
        "id": "6a4MohrX5QoJ",
        "outputId": "c54f52df-0ec5-44e7-e360-b6acc286dd8a"
      },
      "execution_count": 6,
      "outputs": [
        {
          "output_type": "stream",
          "name": "stdout",
          "text": [
            "0\n"
          ]
        }
      ]
    },
    {
      "cell_type": "code",
      "source": [
        "print(5**2)"
      ],
      "metadata": {
        "colab": {
          "base_uri": "https://localhost:8080/"
        },
        "id": "eicWHQ-i5TSP",
        "outputId": "cd8aa4b0-5cc8-4d51-bd82-6d15b65fdc17"
      },
      "execution_count": 7,
      "outputs": [
        {
          "output_type": "stream",
          "name": "stdout",
          "text": [
            "25\n"
          ]
        }
      ]
    },
    {
      "cell_type": "markdown",
      "source": [
        "##**Relational Operators**"
      ],
      "metadata": {
        "id": "mSw0sM5A9RnX"
      }
    },
    {
      "cell_type": "code",
      "source": [
        "print(4>5)"
      ],
      "metadata": {
        "colab": {
          "base_uri": "https://localhost:8080/"
        },
        "id": "SrficSFx5WKt",
        "outputId": "6fe0f97e-ed61-491e-c76d-b1abd61d095b"
      },
      "execution_count": 8,
      "outputs": [
        {
          "output_type": "stream",
          "name": "stdout",
          "text": [
            "False\n"
          ]
        }
      ]
    },
    {
      "cell_type": "code",
      "source": [
        "print(4<5)"
      ],
      "metadata": {
        "colab": {
          "base_uri": "https://localhost:8080/"
        },
        "id": "qEInNYeX5bKu",
        "outputId": "b9b4284b-2eee-4e91-ebbe-4d8b0f7fc7d7"
      },
      "execution_count": 9,
      "outputs": [
        {
          "output_type": "stream",
          "name": "stdout",
          "text": [
            "True\n"
          ]
        }
      ]
    },
    {
      "cell_type": "code",
      "source": [
        "print(4>=4)"
      ],
      "metadata": {
        "colab": {
          "base_uri": "https://localhost:8080/"
        },
        "id": "V-7OvDAz5foY",
        "outputId": "0f6c080f-bff5-4e7a-80d5-d09233bccade"
      },
      "execution_count": 10,
      "outputs": [
        {
          "output_type": "stream",
          "name": "stdout",
          "text": [
            "True\n"
          ]
        }
      ]
    },
    {
      "cell_type": "code",
      "source": [
        "print(4<=4)"
      ],
      "metadata": {
        "colab": {
          "base_uri": "https://localhost:8080/"
        },
        "id": "rCSIShYO5iaF",
        "outputId": "445bf659-b4ce-4332-e84a-f0691a421143"
      },
      "execution_count": 11,
      "outputs": [
        {
          "output_type": "stream",
          "name": "stdout",
          "text": [
            "True\n"
          ]
        }
      ]
    },
    {
      "cell_type": "code",
      "source": [
        "print(4==4)"
      ],
      "metadata": {
        "colab": {
          "base_uri": "https://localhost:8080/"
        },
        "id": "mQFQtUhL5lrB",
        "outputId": "21599e0d-e665-4674-d4bd-564b31590a53"
      },
      "execution_count": 12,
      "outputs": [
        {
          "output_type": "stream",
          "name": "stdout",
          "text": [
            "True\n"
          ]
        }
      ]
    },
    {
      "cell_type": "code",
      "source": [
        "print(4!=4)"
      ],
      "metadata": {
        "colab": {
          "base_uri": "https://localhost:8080/"
        },
        "id": "DVxvvss75oU-",
        "outputId": "0e307551-d767-4bb0-da5c-c996e8d11e95"
      },
      "execution_count": 13,
      "outputs": [
        {
          "output_type": "stream",
          "name": "stdout",
          "text": [
            "False\n"
          ]
        }
      ]
    },
    {
      "cell_type": "markdown",
      "source": [
        "##**Logical Operators**"
      ],
      "metadata": {
        "id": "pxMKx8PC9Gg2"
      }
    },
    {
      "cell_type": "code",
      "source": [
        "print(0 and 1)"
      ],
      "metadata": {
        "colab": {
          "base_uri": "https://localhost:8080/"
        },
        "id": "mUbjAn5T5q81",
        "outputId": "b8a1cdfb-3176-46a5-abf5-52b486a336bc"
      },
      "execution_count": 15,
      "outputs": [
        {
          "output_type": "stream",
          "name": "stdout",
          "text": [
            "0\n"
          ]
        }
      ]
    },
    {
      "cell_type": "code",
      "source": [
        "print(0 or 1)"
      ],
      "metadata": {
        "colab": {
          "base_uri": "https://localhost:8080/"
        },
        "id": "TEU1W64o5w4b",
        "outputId": "c4f7057d-51aa-445b-c033-ae53f4c1394f"
      },
      "execution_count": 16,
      "outputs": [
        {
          "output_type": "stream",
          "name": "stdout",
          "text": [
            "1\n"
          ]
        }
      ]
    },
    {
      "cell_type": "code",
      "source": [
        "print(not 1)"
      ],
      "metadata": {
        "colab": {
          "base_uri": "https://localhost:8080/"
        },
        "id": "UxQFegw257CE",
        "outputId": "62d8858b-96d5-424d-c611-f7b24fe8c6ac"
      },
      "execution_count": 17,
      "outputs": [
        {
          "output_type": "stream",
          "name": "stdout",
          "text": [
            "False\n"
          ]
        }
      ]
    },
    {
      "cell_type": "code",
      "source": [
        "print(not 0)"
      ],
      "metadata": {
        "colab": {
          "base_uri": "https://localhost:8080/"
        },
        "id": "JpwRffPl59eh",
        "outputId": "5b0f9743-9084-43e4-a093-ef1398c116ad"
      },
      "execution_count": 18,
      "outputs": [
        {
          "output_type": "stream",
          "name": "stdout",
          "text": [
            "True\n"
          ]
        }
      ]
    },
    {
      "cell_type": "markdown",
      "source": [
        "## **Bitwise Operators**"
      ],
      "metadata": {
        "id": "AQMoM8UX87cz"
      }
    },
    {
      "cell_type": "code",
      "source": [
        "# bitwise and\n",
        "print(2 & 3)"
      ],
      "metadata": {
        "colab": {
          "base_uri": "https://localhost:8080/"
        },
        "id": "F0Qno5g66AcW",
        "outputId": "4a89de55-d0b2-40dc-aec3-f7a6b85f5ef1"
      },
      "execution_count": 19,
      "outputs": [
        {
          "output_type": "stream",
          "name": "stdout",
          "text": [
            "2\n"
          ]
        }
      ]
    },
    {
      "cell_type": "code",
      "source": [
        "# bitwise or\n",
        "print(2 | 3)"
      ],
      "metadata": {
        "colab": {
          "base_uri": "https://localhost:8080/"
        },
        "id": "hB0YjCbL6G01",
        "outputId": "7e28e3f4-0c3c-4cae-dd11-51503d7a1153"
      },
      "execution_count": 20,
      "outputs": [
        {
          "output_type": "stream",
          "name": "stdout",
          "text": [
            "3\n"
          ]
        }
      ]
    },
    {
      "cell_type": "code",
      "source": [
        "# bitwise and\n",
        "print(2 & 3)"
      ],
      "metadata": {
        "colab": {
          "base_uri": "https://localhost:8080/"
        },
        "id": "vW7E_DNp6KFD",
        "outputId": "b591ebdc-7b57-4af4-a85c-b30329426c74"
      },
      "execution_count": 21,
      "outputs": [
        {
          "output_type": "stream",
          "name": "stdout",
          "text": [
            "2\n"
          ]
        }
      ]
    },
    {
      "cell_type": "code",
      "source": [
        "# bitwise xor\n",
        "print(2 ^ 3)"
      ],
      "metadata": {
        "colab": {
          "base_uri": "https://localhost:8080/"
        },
        "id": "2vpW5sv16NnH",
        "outputId": "4b6989b1-7cd6-4568-da56-e075ea575b54"
      },
      "execution_count": 22,
      "outputs": [
        {
          "output_type": "stream",
          "name": "stdout",
          "text": [
            "1\n"
          ]
        }
      ]
    },
    {
      "cell_type": "code",
      "source": [
        "#bitwise not\n",
        "print(~3)"
      ],
      "metadata": {
        "colab": {
          "base_uri": "https://localhost:8080/"
        },
        "id": "zJSzTf1H6ScG",
        "outputId": "1bef57a2-ce6d-4a00-fda0-ba66ffb26e07"
      },
      "execution_count": 24,
      "outputs": [
        {
          "output_type": "stream",
          "name": "stdout",
          "text": [
            "-4\n"
          ]
        }
      ]
    },
    {
      "cell_type": "code",
      "source": [
        "#right shift\n",
        "print(4 >> 2)"
      ],
      "metadata": {
        "colab": {
          "base_uri": "https://localhost:8080/"
        },
        "id": "59YLg2B46Uvo",
        "outputId": "a1380e5a-5041-4fe4-9e73-78c6c8ff6e77"
      },
      "execution_count": 25,
      "outputs": [
        {
          "output_type": "stream",
          "name": "stdout",
          "text": [
            "1\n"
          ]
        }
      ]
    },
    {
      "cell_type": "code",
      "source": [
        "#left shift\n",
        "print(5 << 2)"
      ],
      "metadata": {
        "colab": {
          "base_uri": "https://localhost:8080/"
        },
        "id": "FAyvfeoV6bJh",
        "outputId": "68bf3944-6347-4cbc-c19c-eda41a1e5b3d"
      },
      "execution_count": 26,
      "outputs": [
        {
          "output_type": "stream",
          "name": "stdout",
          "text": [
            "20\n"
          ]
        }
      ]
    },
    {
      "cell_type": "markdown",
      "source": [
        "## **Assignment Operators**\n"
      ],
      "metadata": {
        "id": "lNbeO7_08d6T"
      }
    },
    {
      "cell_type": "markdown",
      "source": [
        "=\n",
        "\n",
        "\n",
        "a = 2\n"
      ],
      "metadata": {
        "id": "W6RpqJhz8pEC"
      }
    },
    {
      "cell_type": "code",
      "source": [
        "a = 2\n",
        "\n",
        "a += 1\n",
        "\n",
        "print(a)"
      ],
      "metadata": {
        "colab": {
          "base_uri": "https://localhost:8080/"
        },
        "id": "Kk8O5bee8rSc",
        "outputId": "7f025223-9da3-4567-d26a-00f016c643fc"
      },
      "execution_count": 27,
      "outputs": [
        {
          "output_type": "stream",
          "name": "stdout",
          "text": [
            "3\n"
          ]
        }
      ]
    },
    {
      "cell_type": "markdown",
      "source": [
        "##**Membership Operators**\n",
        "# in/not in\n"
      ],
      "metadata": {
        "id": "nGft0oop94Nl"
      }
    },
    {
      "cell_type": "code",
      "source": [
        "print('D' not in 'Mumbai')"
      ],
      "metadata": {
        "colab": {
          "base_uri": "https://localhost:8080/"
        },
        "id": "cAbqeoBG98JE",
        "outputId": "14501eae-3edb-4833-c5b6-8a736872d470"
      },
      "execution_count": 28,
      "outputs": [
        {
          "output_type": "stream",
          "name": "stdout",
          "text": [
            "True\n"
          ]
        }
      ]
    },
    {
      "cell_type": "code",
      "source": [
        "print(10 not in [1,2,3,4])"
      ],
      "metadata": {
        "colab": {
          "base_uri": "https://localhost:8080/"
        },
        "id": "_2DMp5V69_UT",
        "outputId": "0cd15f6c-8abd-41dd-adae-14ce7f5eb0e3"
      },
      "execution_count": 29,
      "outputs": [
        {
          "output_type": "stream",
          "name": "stdout",
          "text": [
            "True\n"
          ]
        }
      ]
    }
  ]
}