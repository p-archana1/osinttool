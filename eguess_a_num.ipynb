{
  "nbformat": 4,
  "nbformat_minor": 0,
  "metadata": {
    "colab": {
      "provenance": [],
      "authorship_tag": "ABX9TyNb9rUYG+ZUOTx8Ssjz1Sri",
      "include_colab_link": true
    },
    "kernelspec": {
      "name": "python3",
      "display_name": "Python 3"
    },
    "language_info": {
      "name": "python"
    }
  },
  "cells": [
    {
      "cell_type": "markdown",
      "metadata": {
        "id": "view-in-github",
        "colab_type": "text"
      },
      "source": [
        "<a href=\"https://colab.research.google.com/github/p-archana1/osinttool/blob/main/eguess_a_num.ipynb\" target=\"_parent\"><img src=\"https://colab.research.google.com/assets/colab-badge.svg\" alt=\"Open In Colab\"/></a>"
      ]
    },
    {
      "cell_type": "code",
      "execution_count": 1,
      "metadata": {
        "colab": {
          "base_uri": "https://localhost:8080/"
        },
        "id": "EUkEwCH9A55f",
        "outputId": "9a0f89e5-f53c-4b99-a3ec-9f80870a8877"
      },
      "outputs": [
        {
          "output_type": "stream",
          "name": "stdout",
          "text": [
            "Enter your guess number: 5\n",
            "Wrong! Please guess higher\n",
            "Enter your guess number: 9\n",
            "Wrong! Please guess higher\n",
            "Enter your guess number: 156\n",
            "Wrong! Please guess lower\n",
            "Enter your guess number: 17\n",
            "Wrong! Please guess higher\n",
            "Enter your guess number: 77\n",
            "Wrong! Please guess lower\n",
            "Enter your guess number: 0\n",
            "Wrong! Please guess higher\n",
            "Enter your guess number: 40\n",
            "Wrong! Please guess higher\n",
            "Enter your guess number: 45\n",
            "Wrong! Please guess higher\n",
            "Enter your guess number: 50\n",
            "Wrong! Please guess higher\n",
            "Enter your guess number: 55\n",
            "Wrong! Please guess higher\n",
            "Enter your guess number: 60\n",
            "Wrong! Please guess lower\n",
            "Enter your guess number: 57\n",
            "Wrong! Please guess higher\n",
            "Enter your guess number: 59\n",
            "Wrong! Please guess lower\n",
            "Enter your guess number: 58\n",
            "Correct Guess\n",
            "Your attempt is : 14\n"
          ]
        }
      ],
      "source": [
        "\n",
        "import random\n",
        "\n",
        "jackpot = random.randint(1,100)\n",
        "\n",
        "guess_number = int(input(\"Enter your guess number: \"))\n",
        "\n",
        "counter = 1\n",
        "\n",
        "while guess_number != jackpot:\n",
        "\n",
        "    if guess_number < jackpot:\n",
        "        print(\"Wrong! Please guess higher\")\n",
        "\n",
        "    else:\n",
        "        print(\"Wrong! Please guess lower\")\n",
        "\n",
        "    guess_number = int(input(\"Enter your guess number: \"))\n",
        "    counter += 1\n",
        "\n",
        "\n",
        "else:\n",
        "    print(\"Correct Guess\")\n",
        "    print(\"Your attempt is :\", counter)\n"
      ]
    }
  ]
}