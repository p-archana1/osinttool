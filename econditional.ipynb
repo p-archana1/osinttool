{
  "nbformat": 4,
  "nbformat_minor": 0,
  "metadata": {
    "colab": {
      "provenance": [],
      "authorship_tag": "ABX9TyMIi2kU6SyvZNaWwWHqcJ1p",
      "include_colab_link": true
    },
    "kernelspec": {
      "name": "python3",
      "display_name": "Python 3"
    },
    "language_info": {
      "name": "python"
    }
  },
  "cells": [
    {
      "cell_type": "markdown",
      "metadata": {
        "id": "view-in-github",
        "colab_type": "text"
      },
      "source": [
        "<a href=\"https://colab.research.google.com/github/p-archana1/osinttool/blob/main/econditional.ipynb\" target=\"_parent\"><img src=\"https://colab.research.google.com/assets/colab-badge.svg\" alt=\"Open In Colab\"/></a>"
      ]
    },
    {
      "cell_type": "code",
      "execution_count": null,
      "metadata": {
        "id": "mnLsIiyDZUx1"
      },
      "outputs": [],
      "source": [
        "Exercise - 1\n",
        "Find the min of 3 given numbers"
      ]
    },
    {
      "cell_type": "code",
      "source": [
        "num1 = int(input(\"Enter first number: \"))\n",
        "num2 = int(input(\"Enter second number: \"))\n",
        "num3 = int(input(\"Enter third number: \"))\n",
        "\n",
        "if num1<num2 and num1<num3:\n",
        "    print(\"Minimum number is: \", num1)\n",
        "\n",
        "elif num2<num1 and num2<num3:\n",
        "    print(\"Minimum number is: \", num2)\n",
        "\n",
        "else:\n",
        "    print(\"Minimum number is: \", num3)"
      ],
      "metadata": {
        "id": "fTDNBy93Za_-"
      },
      "execution_count": null,
      "outputs": []
    },
    {
      "cell_type": "code",
      "source": [
        "Exercise - 2\n",
        "ATM Machine menu"
      ],
      "metadata": {
        "id": "YkqNk9wOZgSp"
      },
      "execution_count": null,
      "outputs": []
    },
    {
      "cell_type": "code",
      "source": [
        "1. Pin change\n",
        "2. balance check\n",
        "3. withdraw\n",
        "4. Deposit\n",
        "5. Exit"
      ],
      "metadata": {
        "id": "-6a-g5wwbACX"
      },
      "execution_count": null,
      "outputs": []
    },
    {
      "cell_type": "code",
      "source": [
        "menu = input(\"\"\"\n",
        "Hi there! Welcome to ATM\n",
        "Please choose,\n",
        "\n",
        "\"\"\")\n",
        "\n",
        "# print(menu)\n",
        "\n",
        "1. Enter 1 for Pin change\n",
        "2. Enter 2 for Balance check\n",
        "3. Enter 3 for Withdraw\n",
        "4. Enter 4 for Deposit\n",
        "5. Enter 5 for Exit"
      ],
      "metadata": {
        "id": "7oGG211TbFNb"
      },
      "execution_count": null,
      "outputs": []
    },
    {
      "cell_type": "code",
      "source": [
        "if menu == \"1\":\n",
        "    print(\"Pin change\")\n",
        "\n",
        "elif menu == \"2\":\n",
        "    print(\"Balance check\")\n",
        "\n",
        "elif menu == \"3\":\n",
        "    print(\"Withdraw\")\n",
        "\n",
        "elif menu == \"4\":\n",
        "    print(\"Deposit\")\n",
        "\n",
        "else:\n",
        "    print(\"Exit\")"
      ],
      "metadata": {
        "id": "-LjxyIftny9U"
      },
      "execution_count": null,
      "outputs": []
    }
  ]
}