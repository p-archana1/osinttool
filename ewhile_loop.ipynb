{
  "nbformat": 4,
  "nbformat_minor": 0,
  "metadata": {
    "colab": {
      "provenance": [],
      "authorship_tag": "ABX9TyPomrZw/Elm+u8LejK8Xtsc",
      "include_colab_link": true
    },
    "kernelspec": {
      "name": "python3",
      "display_name": "Python 3"
    },
    "language_info": {
      "name": "python"
    }
  },
  "cells": [
    {
      "cell_type": "markdown",
      "metadata": {
        "id": "view-in-github",
        "colab_type": "text"
      },
      "source": [
        "<a href=\"https://colab.research.google.com/github/p-archana1/osinttool/blob/main/ewhile_loop.ipynb\" target=\"_parent\"><img src=\"https://colab.research.google.com/assets/colab-badge.svg\" alt=\"Open In Colab\"/></a>"
      ]
    },
    {
      "cell_type": "code",
      "execution_count": null,
      "metadata": {
        "id": "1fRr6HMX9aOR"
      },
      "outputs": [],
      "source": [
        "# while loop\n",
        "\n",
        "# i = 0\n",
        "\n",
        "# while i<10:\n",
        "#     print(\"archana\")\n",
        "#     i += 1\n",
        "\n",
        "\n",
        "# program to print multiplication table\n",
        "\n",
        "\"\"\"\n",
        "number = int(input(\"Enter the number: \"))\n",
        "\n",
        "i = 1\n",
        "\n",
        "while i<11:\n",
        "    # print(i*number)\n",
        "    print(number, \"*\", i, \"=\", number*i)\n",
        "    i += 1\n",
        "\n",
        "\"\"\"\n",
        "\n",
        "# while loop with else\n",
        "\n",
        "x = 1\n",
        "\n",
        "while x<4:\n",
        "    print(x)\n",
        "    x += 1\n",
        "\n",
        "else:\n",
        "    print(\"Program Executed\")"
      ]
    }
  ]
}