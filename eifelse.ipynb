{
  "nbformat": 4,
  "nbformat_minor": 0,
  "metadata": {
    "colab": {
      "provenance": [],
      "authorship_tag": "ABX9TyNcqdWj2mtsk137kF+SgLP7",
      "include_colab_link": true
    },
    "kernelspec": {
      "name": "python3",
      "display_name": "Python 3"
    },
    "language_info": {
      "name": "python"
    }
  },
  "cells": [
    {
      "cell_type": "markdown",
      "metadata": {
        "id": "view-in-github",
        "colab_type": "text"
      },
      "source": [
        "<a href=\"https://colab.research.google.com/github/p-archana1/osinttool/blob/main/eifelse.ipynb\" target=\"_parent\"><img src=\"https://colab.research.google.com/assets/colab-badge.svg\" alt=\"Open In Colab\"/></a>"
      ]
    },
    {
      "cell_type": "code",
      "execution_count": 1,
      "metadata": {
        "colab": {
          "base_uri": "https://localhost:8080/"
        },
        "id": "f_xqDhZsBmed",
        "outputId": "c63a349c-ae85-4d3a-b3b9-5a7109d62eee"
      },
      "outputs": [
        {
          "output_type": "stream",
          "name": "stdout",
          "text": [
            "Hello\n"
          ]
        }
      ],
      "source": [
        "print(\"Hello\")"
      ]
    },
    {
      "cell_type": "code",
      "source": [
        "# Login Function demo - ArchanaWeb\n",
        "\n",
        "\"\"\" Actual Credentials\n",
        "Email: entarchana7@gmail.com\n",
        "Password: 1234\n",
        "\"\"\"\n",
        "\n",
        "\n",
        "email = input(\"Enter your email address: \")\n",
        "password = input(\"Enter your password: \")\n",
        "\n",
        "if email == \"entarchana7@gmail.com\" and password == \"1234\":\n",
        "    print(\"Login Successful!\")\n",
        "\n",
        "else:\n",
        "    print(\"Invalid credentials!\")"
      ],
      "metadata": {
        "id": "utAapbE_DLRQ"
      },
      "execution_count": null,
      "outputs": []
    },
    {
      "cell_type": "markdown",
      "source": [
        "**elif**"
      ],
      "metadata": {
        "id": "HSxXQ979EFtu"
      }
    },
    {
      "cell_type": "code",
      "source": [
        "# Login Function demo - ArchanaWeb\n",
        "\n",
        "\"\"\" Actual Credentials\n",
        "Email: entarchana7@gmail.com\n",
        "Password: 1234\n",
        "\"\"\"\n",
        "\n",
        "\n",
        "email = input(\"Enter your email address: \")\n",
        "password = input(\"Enter your password: \")\n",
        "\n",
        "if email == \"entarchana7@gmail.com\" and password == \"1234\":\n",
        "    print(\"Login Successful!\")\n",
        "\n",
        "elif email == \"entarchana7@gmail.com\" and password == \"1234\":\n",
        "    print(\"Login Successful!\")\n",
        "\n",
        "else:\n",
        "    print(\"Invalid credentials!\")"
      ],
      "metadata": {
        "id": "4qnCAWtjEKxA"
      },
      "execution_count": null,
      "outputs": []
    },
    {
      "cell_type": "markdown",
      "source": [
        "##**Nasted conditions**"
      ],
      "metadata": {
        "id": "MAIy6TenE1lO"
      }
    },
    {
      "cell_type": "code",
      "source": [
        "# Login Function demo - ArchanaWeb\n",
        "\n",
        "\"\"\" Actual Credentials\n",
        "Email: entarchana7@gmail.com\n",
        "Password: 1234\n",
        "\"\"\"\n",
        "\n",
        "\n",
        "email = input(\"Enter your email address: \")\n",
        "password = input(\"Enter your password: \")\n",
        "\n",
        "if email == \"entarchana7@gmail.com\" and password == \"1234\":\n",
        "    print(\"Login Successful!\")\n",
        "\n",
        "\n",
        "elif email == \"entarchana7@gmail.com\" and password != \"1234\":\n",
        "    print(\"Please try again!\")\n",
        "    password = input(\"Enter the correct password again: \")\n",
        "\n",
        "    if password == \"1234\":\n",
        "        print(\"Success\")\n",
        "    else:\n",
        "        print(\"Wrong!\")\n",
        "\n",
        "else:\n",
        "    print(\"Invalid credentials!\")"
      ],
      "metadata": {
        "id": "JL8Kdev4E6yf"
      },
      "execution_count": null,
      "outputs": []
    },
    {
      "cell_type": "code",
      "source": [
        "if condition:\n",
        "    #write something\n",
        "\n",
        "elif:\n",
        "    #write something else\n",
        "\n",
        "else:\n",
        "    #write something else"
      ],
      "metadata": {
        "id": "F2xpeuYGFaTN"
      },
      "execution_count": null,
      "outputs": []
    }
  ]
}